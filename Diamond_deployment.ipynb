{
 "cells": [
  {
   "cell_type": "code",
   "execution_count": 5,
   "id": "0e8455b9",
   "metadata": {},
   "outputs": [],
   "source": [
    "import pickle\n",
    "import numpy as np\n",
    "import warnings\n",
    "warnings.filterwarnings('ignore')\n",
    "import streamlit as st\n"
   ]
  },
  {
   "cell_type": "code",
   "execution_count": 9,
   "id": "4fb6e6ad",
   "metadata": {},
   "outputs": [],
   "source": [
    "loaded_model = pickle.load(open('Diamond_model.sav','rb'))\n"
   ]
  },
  {
   "cell_type": "code",
   "execution_count": 10,
   "id": "3ed51eb6",
   "metadata": {},
   "outputs": [
    {
     "name": "stderr",
     "output_type": "stream",
     "text": [
      "2024-04-08 22:32:41.683 \n",
      "  \u001b[33m\u001b[1mWarning:\u001b[0m to view this Streamlit app on a browser, run it with the following\n",
      "  command:\n",
      "\n",
      "    streamlit run C:\\Users\\Siddhay\\anaconda3\\Lib\\site-packages\\ipykernel_launcher.py [ARGUMENTS]\n"
     ]
    }
   ],
   "source": [
    "loaded_model = pickle.load(open('Diamond_model.sav','rb'))\n",
    "def ctr_function(input_data):\n",
    "    input_data_as_numpy_array=np.array(input_data)\n",
    "    input_data_reshape=input_data_as_numpy_array.reshape(1,-1)\n",
    "    prediction=loaded_model.predict(input_data_reshape)\n",
    "    return prediction\n",
    "    \n",
    "    \n",
    "def main():\n",
    "    st.title(\"Diamond price Prediction Model\")\n",
    "    carat=st.text_input(\"Enter the carat :\")\n",
    "    cut=st.text_input(\"Enter the cut  :\")\n",
    "    color=st.text_input(\"Enter the color :\")\n",
    "    clarity=st.text_input(\"Enter the clarity : \")\n",
    "    depth=st.text_input(\"Enter depth : \")\n",
    "    table=st.text_input(\"Enter the table : \")\n",
    "    x=st.text_input(\"Enter the x : \")\n",
    "    y=st.text_input(\"Enter the y :\")\n",
    "    z=st.text_input(\"Enter the z : \")\n",
    "    \n",
    "    diagnosis=\"\"\n",
    "    if st.button(\"Price for given Data is : \"):\n",
    "        diagnosis= ctr_function([carat,cut,color,clarity,depth,table,x,y,z])\n",
    "    st.success(diagnosis)\n",
    "    \n",
    "    \n",
    "if __name__==\"__main__\":\n",
    "    main()\n",
    "    "
   ]
  },
  {
   "cell_type": "code",
   "execution_count": null,
   "id": "9d68bbc9",
   "metadata": {},
   "outputs": [],
   "source": []
  }
 ],
 "metadata": {
  "kernelspec": {
   "display_name": "Python 3 (ipykernel)",
   "language": "python",
   "name": "python3"
  },
  "language_info": {
   "codemirror_mode": {
    "name": "ipython",
    "version": 3
   },
   "file_extension": ".py",
   "mimetype": "text/x-python",
   "name": "python",
   "nbconvert_exporter": "python",
   "pygments_lexer": "ipython3",
   "version": "3.11.5"
  }
 },
 "nbformat": 4,
 "nbformat_minor": 5
}

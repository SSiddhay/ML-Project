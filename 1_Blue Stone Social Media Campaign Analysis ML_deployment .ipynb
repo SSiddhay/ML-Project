{
 "cells": [
  {
   "cell_type": "code",
   "execution_count": 1,
   "id": "1667aff5",
   "metadata": {},
   "outputs": [],
   "source": [
    "import pickle\n",
    "import numpy as np\n",
    "import warnings\n",
    "warnings.filterwarnings('ignore')\n",
    "import streamlit as st\n"
   ]
  },
  {
   "cell_type": "code",
   "execution_count": 2,
   "id": "9206bd32",
   "metadata": {},
   "outputs": [],
   "source": [
    "loaded_model = pickle.load(open('trained_model11.sav','rb'))\n"
   ]
  },
  {
   "cell_type": "code",
   "execution_count": 3,
   "id": "3e0c4dc1",
   "metadata": {},
   "outputs": [
    {
     "name": "stderr",
     "output_type": "stream",
     "text": [
      "2024-03-09 13:30:18.008 \n",
      "  \u001b[33m\u001b[1mWarning:\u001b[0m to view this Streamlit app on a browser, run it with the following\n",
      "  command:\n",
      "\n",
      "    streamlit run C:\\Users\\Siddhay\\anaconda3\\Lib\\site-packages\\ipykernel_launcher.py [ARGUMENTS]\n"
     ]
    }
   ],
   "source": [
    "loaded_model = pickle.load(open('trained_model11.sav','rb'))\n",
    "def ctr_function(input_data):\n",
    "    input_data_as_numpy_array=np.array(input_data)\n",
    "    input_data_reshape=input_data_as_numpy_array.reshape(1,-1)\n",
    "    prediction=loaded_model.predict(input_data_reshape)\n",
    "    return prediction\n",
    "    \n",
    "    \n",
    "def main():\n",
    "    st.title(\"Blue Stone's CTR prediction for next Campaign\")\n",
    "    clicks=st.text_input(\"Enter the Clicks :\")\n",
    "    impressions=st.text_input(\"Enter the impressions  :\")\n",
    "    campaign_budget_usd=st.text_input(\"Enter the campaign budget in usd :\")\n",
    "    no_of_days=st.text_input(\"Enter the no of days : \")\n",
    "    ext_service_id=st.text_input(\"Enter the service id : \")\n",
    "    media_cost_usd=st.text_input(\"Enter the media cost usd : \")\n",
    "    advertiser_id=st.text_input(\"Enter the advertiser id : \")\n",
    "    network_id=st.text_input(\"Enter the network id :\")\n",
    "    approved_budget=st.text_input(\"Enter the approved budget : \")\n",
    "    channel_id=st.text_input(\"Enter the channel id :\")\n",
    "    \n",
    "    diagnosis=\"\"\n",
    "    if st.button(\"CTR for given Data is : \"):\n",
    "        diagnosis= ctr_function([clicks ,impressions,campaign_budget_usd,no_of_days,ext_service_id,\n",
    "                                        media_cost_usd,advertiser_id,network_id,approved_budget,channel_id])\n",
    "    st.success(diagnosis)\n",
    "    \n",
    "    \n",
    "if __name__==\"__main__\":\n",
    "    main()\n",
    "    "
   ]
  },
  {
   "cell_type": "code",
   "execution_count": null,
   "id": "45f60b19",
   "metadata": {},
   "outputs": [],
   "source": []
  }
 ],
 "metadata": {
  "kernelspec": {
   "display_name": "Python 3 (ipykernel)",
   "language": "python",
   "name": "python3"
  },
  "language_info": {
   "codemirror_mode": {
    "name": "ipython",
    "version": 3
   },
   "file_extension": ".py",
   "mimetype": "text/x-python",
   "name": "python",
   "nbconvert_exporter": "python",
   "pygments_lexer": "ipython3",
   "version": "3.11.5"
  }
 },
 "nbformat": 4,
 "nbformat_minor": 5
}
